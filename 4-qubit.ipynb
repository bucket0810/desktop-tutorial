{
 "cells": [
  {
   "cell_type": "code",
   "execution_count": 1,
   "id": "ba1ebe47",
   "metadata": {},
   "outputs": [],
   "source": [
    "from qiskit import *\n",
    "from qiskit import QuantumCircuit, assemble, Aer\n",
    "from math import pi, sqrt, sin, cos\n",
    "from qiskit.visualization import plot_bloch_multivector, plot_histogram\n",
    "import matplotlib\n",
    "import matplotlib.pyplot as plt\n",
    "import numpy as np\n",
    "import os,sys\n",
    "from collections import Counter"
   ]
  },
  {
   "cell_type": "code",
   "execution_count": 2,
   "id": "0a60676f",
   "metadata": {},
   "outputs": [
    {
     "name": "stdout",
     "output_type": "stream",
     "text": [
      "0.75 pi {'1111': 0.103515625, '0110': 0.12109375, '0000': 0.0927734375, '1110': 0.021484375, '0101': 0.1044921875, '1100': 0.1142578125, '0100': 0.0126953125, '1010': 0.12109375, '0001': 0.017578125, '1011': 0.01171875, '0011': 0.111328125, '1001': 0.09765625, '0010': 0.017578125, '0111': 0.017578125, '1101': 0.0146484375, '1000': 0.0205078125}\n"
     ]
    }
   ],
   "source": [
    "fi = 3*1/4*pi\n",
    "q = QuantumRegister(4)\n",
    "c = ClassicalRegister(4)\n",
    "qc = QuantumCircuit(q,c)\n",
    "\n",
    "qc.h(q[0])\n",
    "qc.cx(q[0],q[1])\n",
    "qc.cx(q[1],q[2])\n",
    "qc.cx(q[2],q[3])\n",
    "qc.u(0, 0, fi, q[0])\n",
    "\n",
    "qc.barrier(q)\n",
    "\n",
    "#XXYY    \n",
    "qc.sdg(2)\n",
    "qc.sdg(3)\n",
    "qc.h(q[0])\n",
    "qc.h(q[1])\n",
    "qc.h(q[2])\n",
    "qc.h(q[3])\n",
    "\n",
    "qc.measure(q[0], c[0])\n",
    "qc.measure(q[1], c[1])\n",
    "qc.measure(q[2], c[2])\n",
    "qc.measure(q[3], c[3])\n",
    "\n",
    "backend1 = Aer.get_backend('qasm_simulator')\n",
    "job1 = execute(qc, backend1, shots=1024)\n",
    "result1 = job1.result()\n",
    "count1 =result1.get_counts()\n",
    "total1 = sum(count1.values(), 0.0)\n",
    "count1 = {k: v / total1 for k, v in count1.items()}\n",
    "qc.draw(output='mpl')\n",
    "print(3*1/4,'pi',count1)\n",
    "#    plot_histogram(count1)"
   ]
  },
  {
   "cell_type": "code",
   "execution_count": 3,
   "id": "61a5e8e5",
   "metadata": {},
   "outputs": [
    {
     "name": "stdout",
     "output_type": "stream",
     "text": [
      "0.75 pi {'0110': 0.109375, '1111': 0.1142578125, '1110': 0.017578125, '0101': 0.107421875, '1100': 0.0966796875, '0011': 0.1005859375, '1000': 0.015625, '1001': 0.1044921875, '0000': 0.115234375, '0111': 0.02734375, '1101': 0.0166015625, '0001': 0.0224609375, '1010': 0.1025390625, '0010': 0.0244140625, '0100': 0.013671875, '1011': 0.01171875}\n"
     ]
    }
   ],
   "source": [
    "fi = 3*1/4*pi\n",
    "q = QuantumRegister(4)\n",
    "c = ClassicalRegister(4)\n",
    "qc = QuantumCircuit(q,c)\n",
    "\n",
    "qc.h(q[0])\n",
    "qc.cx(q[0],q[1])\n",
    "qc.cx(q[1],q[2])\n",
    "qc.cx(q[2],q[3])\n",
    "qc.u(0, 0, fi, q[0])\n",
    "\n",
    "qc.barrier(q)\n",
    "\n",
    "#XXXY    \n",
    "\n",
    "qc.sdg(3)\n",
    "qc.h(q[0])\n",
    "qc.h(q[1])\n",
    "qc.h(q[2])\n",
    "qc.h(q[3])\n",
    "\n",
    "qc.measure(q[0], c[0])\n",
    "qc.measure(q[1], c[1])\n",
    "qc.measure(q[2], c[2])\n",
    "qc.measure(q[3], c[3])\n",
    "\n",
    "backend2 = Aer.get_backend('qasm_simulator')\n",
    "job2 = execute(qc, backend2, shots=1024)\n",
    "result2 = job2.result()\n",
    "count2 =result2.get_counts()\n",
    "total2 = sum(count2.values(), 0.0)\n",
    "count2 = {k: v / total2 for k, v in count2.items()}\n",
    "qc.draw(output='mpl')\n",
    "print(3*1/4,'pi',count2)\n",
    "#    plot_histogram(count2)"
   ]
  },
  {
   "cell_type": "code",
   "execution_count": 4,
   "id": "6d2dbcbc",
   "metadata": {},
   "outputs": [
    {
     "name": "stdout",
     "output_type": "stream",
     "text": [
      "0.75 pi {'1110': 0.1103515625, '0010': 0.10546875, '1011': 0.1171875, '1101': 0.109375, '0100': 0.0830078125, '1000': 0.1279296875, '0001': 0.1015625, '0111': 0.0947265625, '0101': 0.0205078125, '1010': 0.01953125, '0110': 0.017578125, '1111': 0.017578125, '1100': 0.021484375, '0000': 0.017578125, '0011': 0.01953125, '1001': 0.0166015625}\n"
     ]
    }
   ],
   "source": [
    "fi = 3*1/4*pi\n",
    "q = QuantumRegister(4)\n",
    "c = ClassicalRegister(4)\n",
    "qc = QuantumCircuit(q,c)\n",
    "\n",
    "qc.h(q[0])\n",
    "qc.cx(q[0],q[1])\n",
    "qc.cx(q[1],q[2])\n",
    "qc.cx(q[2],q[3])\n",
    "qc.u(0, 0, fi, q[0])\n",
    "\n",
    "qc.barrier(q)\n",
    "\n",
    "#YYYX   \n",
    "qc.sdg(0)\n",
    "qc.sdg(1)\n",
    "qc.sdg(2)\n",
    "qc.h(q[0])\n",
    "qc.h(q[1])\n",
    "qc.h(q[2])\n",
    "qc.h(q[3])\n",
    "\n",
    "qc.measure(q[0], c[0])\n",
    "qc.measure(q[1], c[1])\n",
    "qc.measure(q[2], c[2])\n",
    "qc.measure(q[3], c[3])\n",
    "\n",
    "backend3 = Aer.get_backend('qasm_simulator')\n",
    "job3 = execute(qc, backend3, shots=1024)\n",
    "result3 = job3.result()\n",
    "count3 =result3.get_counts()\n",
    "total3 = sum(count3.values(), 0.0)\n",
    "count3 = {k: v / total3 for k, v in count3.items()}\n",
    "qc.draw(output='mpl')\n",
    "print(3*1/4,'pi',count3)\n",
    "#    plot_histogram(count3)"
   ]
  },
  {
   "cell_type": "code",
   "execution_count": 5,
   "id": "d9cc669f",
   "metadata": {},
   "outputs": [
    {
     "name": "stdout",
     "output_type": "stream",
     "text": [
      "0.75 pi {'1011': 0.109375, '0010': 0.09765625, '0100': 0.0986328125, '1101': 0.107421875, '1000': 0.091796875, '0001': 0.125, '1110': 0.1103515625, '0111': 0.1083984375, '1100': 0.0234375, '0000': 0.0146484375, '1010': 0.0185546875, '1001': 0.0185546875, '0101': 0.021484375, '1111': 0.0166015625, '0011': 0.0224609375, '0110': 0.015625}\n"
     ]
    }
   ],
   "source": [
    "fi = 3*1/4*pi\n",
    "q = QuantumRegister(4)\n",
    "c = ClassicalRegister(4)\n",
    "qc = QuantumCircuit(q,c)\n",
    "\n",
    "qc.h(q[0])\n",
    "qc.cx(q[0],q[1])\n",
    "qc.cx(q[1],q[2])\n",
    "qc.cx(q[2],q[3])\n",
    "qc.u(0, 0, fi, q[0])\n",
    "\n",
    "qc.barrier(q)\n",
    "\n",
    "#YYYY   \n",
    "qc.sdg(0)\n",
    "qc.sdg(1)\n",
    "qc.sdg(2)\n",
    "qc.sdg(3)\n",
    "qc.h(q[0])\n",
    "qc.h(q[1])\n",
    "qc.h(q[2])\n",
    "qc.h(q[3])\n",
    "\n",
    "qc.measure(q[0], c[0])\n",
    "qc.measure(q[1], c[1])\n",
    "qc.measure(q[2], c[2])\n",
    "qc.measure(q[3], c[3])\n",
    "\n",
    "backend4 = Aer.get_backend('qasm_simulator')\n",
    "job4 = execute(qc, backend4, shots=1024)\n",
    "result4 = job4.result()\n",
    "count4 =result4.get_counts()\n",
    "total4 = sum(count4.values(), 0.0)\n",
    "count4 = {k: v / total4 for k, v in count4.items()}\n",
    "qc.draw(output='mpl')\n",
    "print(3*1/4,'pi',count4)\n",
    "#    plot_histogram(count4)"
   ]
  },
  {
   "cell_type": "code",
   "execution_count": 6,
   "id": "c83949bf",
   "metadata": {},
   "outputs": [
    {
     "name": "stdout",
     "output_type": "stream",
     "text": [
      "0.75 pi {'0100': 0.12109375, '1000': 0.1162109375, '0000': 0.0166015625, '0010': 0.1142578125, '1110': 0.1005859375, '1010': 0.0166015625, '0111': 0.09765625, '1100': 0.017578125, '1011': 0.0986328125, '1101': 0.1240234375, '0001': 0.0947265625, '1111': 0.0146484375, '0101': 0.017578125, '0011': 0.013671875, '0110': 0.017578125, '1001': 0.0185546875}\n"
     ]
    },
    {
     "data": {
      "image/png": "[encoded data removed]",
      "text/plain": [
       "<Figure size 504x360 with 1 Axes>"
      ]
     },
     "execution_count": 6,
     "metadata": {},
     "output_type": "execute_result"
    }
   ],
   "source": [
    "fi = 3*1/4*pi\n",
    "q = QuantumRegister(4)\n",
    "c = ClassicalRegister(4)\n",
    "qc = QuantumCircuit(q,c)\n",
    "\n",
    "qc.h(q[0])\n",
    "qc.cx(q[0],q[1])\n",
    "qc.cx(q[1],q[2])\n",
    "qc.cx(q[2],q[3])\n",
    "qc.u(0, 0, fi, q[0])\n",
    "\n",
    "qc.barrier(q)\n",
    "\n",
    "#XXXX   \n",
    "qc.h(q[0])\n",
    "qc.h(q[1])\n",
    "qc.h(q[2])\n",
    "qc.h(q[3])\n",
    "\n",
    "qc.measure(q[0], c[0])\n",
    "qc.measure(q[1], c[1])\n",
    "qc.measure(q[2], c[2])\n",
    "qc.measure(q[3], c[3])\n",
    "\n",
    "backend5 = Aer.get_backend('qasm_simulator')\n",
    "job5 = execute(qc, backend5, shots=1024)\n",
    "result5 = job5.result()\n",
    "count5 =result5.get_counts()\n",
    "total5 = sum(count5.values(), 0.0)\n",
    "count5 = {k: v / total5 for k, v in count5.items()}\n",
    "qc.draw(output='mpl')\n",
    "print(3*1/4,'pi',count5)\n",
    "plot_histogram(count5)\n"
   ]
  },
  {
   "cell_type": "code",
   "execution_count": 7,
   "id": "daf24704",
   "metadata": {},
   "outputs": [
    {
     "name": "stdout",
     "output_type": "stream",
     "text": [
      "{'1111': 0.9765625, '0110': 1.060546875, '0000': 0.916015625, '0101': 0.935546875, '1100': 0.9453125, '1010': 1.0234375, '0011': 0.9560546875, '1001': 0.900390625}\n",
      "{'1111': 0.203125, '0110': 0.326171875, '0000': 0.134765625, '1110': 0.2890625, '0101': 0.240234375, '1100': 0.34375, '0100': 0.1337890625, '1010': 0.359375, '0001': 0.2021484375, '1011': 0.2841796875, '0011': 0.3076171875, '1001': 0.197265625, '0010': 0.2177734375, '1101': 0.2275390625, '1000': 0.3642578125, '0111': 0.1728515625}\n",
      "7.7138671875\n",
      "-0.533203125\n",
      "0.6818159746817064\n",
      "-0.04712894317966979\n"
     ]
    }
   ],
   "source": [
    "M4 = (Counter(count1)+Counter(count1)+Counter(count1)+Counter(count1)+Counter(count1)+Counter(count1)\n",
    "      +Counter(count2)+Counter(count2)+Counter(count2)+Counter(count2)\n",
    "      -Counter(count3)-Counter(count3)-Counter(count3)-Counter(count3)\n",
    "      -Counter(count4)-Counter(count5))\n",
    "M4p = (Counter(count1)+Counter(count1)+Counter(count1)+Counter(count1)+Counter(count1)+Counter(count1)\n",
    "      -Counter(count2)-Counter(count2)-Counter(count2)-Counter(count2)\n",
    "      +Counter(count3)+Counter(count3)+Counter(count3)+Counter(count3)\n",
    "      -Counter(count4)-Counter(count5))\n",
    "M4LR = 2**(4-(1/2))\n",
    "print (dict(M4))\n",
    "print (dict(M4p))\n",
    "M4ba=(M4['0000']-M4['0001']-M4['0010']+M4['0011']-M4['0100']\n",
    "      +M4['0101']+M4['0110']-M4['0111']-M4['1000']+M4['1001']\n",
    "      +M4['1010']-M4['1011']+M4['1100']-M4['1101']-M4['1110']+M4['1111'])\n",
    "M4pba=(M4p['0000']+M4p['0001']+M4p['0010']+M4p['0011']+M4p['0100']\n",
    "      +M4p['0101']+M4p['0110']+M4p['0111']-M4p['1000']-M4p['1001']\n",
    "      -M4p['1010']-M4p['1011']-M4p['1100']-M4p['1101']-M4p['1110']-M4p['1111'])\n",
    "print (M4ba)\n",
    "print (M4pba)\n",
    "print (M4ba/M4LR)\n",
    "print (M4pba/M4LR)"
   ]
  },
  {
   "cell_type": "code",
   "execution_count": null,
   "id": "62377c77",
   "metadata": {},
   "outputs": [],
   "source": []
  }
 ],
 "metadata": {
  "kernelspec": {
   "display_name": "Python 3 (ipykernel)",
   "language": "python",
   "name": "python3"
  },
  "language_info": {
   "codemirror_mode": {
    "name": "ipython",
    "version": 3
   },
   "file_extension": ".py",
   "mimetype": "text/x-python",
   "name": "python",
   "nbconvert_exporter": "python",
   "pygments_lexer": "ipython3",
   "version": "3.9.5"
  }
 },
 "nbformat": 4,
 "nbformat_minor": 5
}
