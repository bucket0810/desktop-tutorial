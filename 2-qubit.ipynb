{
 "cells": [
  {
   "cell_type": "code",
   "execution_count": 1,
   "id": "9431e85b",
   "metadata": {},
   "outputs": [],
   "source": [
    "from qiskit import *\n",
    "from qiskit import QuantumCircuit, assemble, Aer\n",
    "from math import pi, sqrt, sin, cos\n",
    "from qiskit.visualization import plot_bloch_multivector, plot_histogram\n",
    "import matplotlib\n",
    "import matplotlib.pyplot as plt\n",
    "import numpy as np\n",
    "import os,sys\n",
    "from collections import Counter"
   ]
  },
  {
   "cell_type": "code",
   "execution_count": 2,
   "id": "6c76c79a",
   "metadata": {
    "scrolled": false
   },
   "outputs": [
    {
     "name": "stdout",
     "output_type": "stream",
     "text": [
      "0.25 pi {'10': 0.08203125, '00': 0.45703125, '11': 0.396484375, '01': 0.064453125}\n"
     ]
    }
   ],
   "source": [
    "q = QuantumRegister(2)\n",
    "c = ClassicalRegister(2)\n",
    "qc = QuantumCircuit(q,c)\n",
    "#GHZ-like states\n",
    "qc.h(q[0])\n",
    "qc.cx(q[0],q[1])\n",
    "qc.u(0, 0, 1/4*pi, q[0])\n",
    "\n",
    "qc.barrier(q)\n",
    "    \n",
    "#solve YX\n",
    "qc.sdg(0)\n",
    "\n",
    "qc.h(q[0])\n",
    "qc.h(q[1])\n",
    "    \n",
    "qc.measure(q[0], c[0])\n",
    "qc.measure(q[1], c[1])\n",
    "    \n",
    "backend1 = Aer.get_backend('qasm_simulator')\n",
    "job1 = execute(qc, backend1, shots=1024)\n",
    "result1 = job1.result()\n",
    "count1 =result1.get_counts()\n",
    "total1 = sum(count1.values(), 0.0)\n",
    "count1 = {k: v / total1 for k, v in count1.items()}\n",
    "qc.draw(output='mpl')\n",
    "print(1/4,\"pi\", count1)\n",
    "#plot_histogram(count1)"
   ]
  },
  {
   "cell_type": "code",
   "execution_count": 3,
   "id": "79f4c40b",
   "metadata": {},
   "outputs": [
    {
     "name": "stdout",
     "output_type": "stream",
     "text": [
      "0.25 pi {'10': 0.08203125, '00': 0.45703125, '11': 0.396484375, '01': 0.064453125}\n"
     ]
    }
   ],
   "source": [
    "fi = 1/4*pi\n",
    "q = QuantumRegister(2)\n",
    "c = ClassicalRegister(2)\n",
    "qc = QuantumCircuit(q,c)\n",
    "#GHZ-like states\n",
    "qc.h(q[0])\n",
    "qc.cx(q[0],q[1])\n",
    "qc.u(0, 0, fi, q[0])\n",
    "    \n",
    "qc.barrier(q)\n",
    "        \n",
    "#solve YY\n",
    "qc.sdg(0)\n",
    "qc.sdg(1)\n",
    "qc.h(q[0])\n",
    "qc.h(q[1])\n",
    "    \n",
    "qc.measure(q[0], c[0])\n",
    "qc.measure(q[1], c[1])\n",
    "    \n",
    "backend2 = Aer.get_backend('qasm_simulator')\n",
    "job2 = execute(qc, backend2, shots=1024)\n",
    "result2 = job1.result()\n",
    "count2 =result2.get_counts()\n",
    "total2 = sum(count2.values(), 0.0)\n",
    "count2 = {k: v / total2 for k, v in count2.items()}\n",
    "qc.draw(output='mpl')\n",
    "print(1/4,\"pi\", count2)\n",
    "#plot_histogram(count2)\n"
   ]
  },
  {
   "cell_type": "code",
   "execution_count": 4,
   "id": "a0432501",
   "metadata": {},
   "outputs": [
    {
     "name": "stdout",
     "output_type": "stream",
     "text": [
      "0.25 pi {'11': 0.4384765625, '00': 0.412109375, '01': 0.0673828125, '10': 0.08203125}\n"
     ]
    }
   ],
   "source": [
    "fi = 1/4*pi\n",
    "q = QuantumRegister(2)\n",
    "c = ClassicalRegister(2)\n",
    "qc = QuantumCircuit(q,c)\n",
    "#GHZ-like states\n",
    "qc.h(q[0])\n",
    "qc.cx(q[0],q[1])\n",
    "qc.u(0, 0, fi, q[0])\n",
    "    \n",
    "qc.barrier(q)\n",
    "        \n",
    "#solve XX\n",
    "\n",
    "qc.h(q[0])\n",
    "qc.h(q[1])\n",
    "        \n",
    "qc.measure(q[0], c[0])\n",
    "qc.measure(q[1], c[1])\n",
    "    \n",
    "backend3 = Aer.get_backend('qasm_simulator')\n",
    "job3 = execute(qc, backend3, shots=1024)\n",
    "result3 = job3.result()\n",
    "count3 =result3.get_counts()\n",
    "total3 = sum(count3.values(), 0.0)\n",
    "count3 = {k: v / total3 for k, v in count3.items()}\n",
    "qc.draw(output='mpl')\n",
    "print(1/4,\"pi\", count3)\n",
    "#plot_histogram(count3)"
   ]
  },
  {
   "cell_type": "code",
   "execution_count": 5,
   "id": "39131e8a",
   "metadata": {},
   "outputs": [
    {
     "name": "stdout",
     "output_type": "stream",
     "text": [
      "{'11': 0.8349609375, '00': 0.869140625, '01': 0.1318359375, '10': 0.1640625}\n",
      "{'10': 0.1640625, '00': 0.958984375, '11': 0.7509765625, '01': 0.1259765625}\n",
      "1.408203125\n",
      "1.419921875\n",
      "0.7041015625\n",
      "0.7099609375\n"
     ]
    }
   ],
   "source": [
    "M2 = Counter(count3)+Counter(count1)+Counter(count1)-Counter(count2)\n",
    "Mb2 = Counter(count2)+Counter(count1)+Counter(count1)-Counter(count3)\n",
    "M2LR = 2**(2/2)\n",
    "print (dict(M2))\n",
    "print (dict(Mb2))\n",
    "M2ba=(M2['00']+M2['11']-M2['10']-M2['01'])\n",
    "Mb2ba=(Mb2['00']+Mb2['11']-Mb2['10']-Mb2['01'])\n",
    "print (M2ba)\n",
    "print (Mb2ba)\n",
    "print (M2ba/M2LR)\n",
    "print (Mb2ba/M2LR)"
   ]
  },
  {
   "cell_type": "code",
   "execution_count": null,
   "id": "ff1fc1b3",
   "metadata": {},
   "outputs": [],
   "source": []
  }
 ],
 "metadata": {
  "kernelspec": {
   "display_name": "Python 3 (ipykernel)",
   "language": "python",
   "name": "python3"
  },
  "language_info": {
   "codemirror_mode": {
    "name": "ipython",
    "version": 3
   },
   "file_extension": ".py",
   "mimetype": "text/x-python",
   "name": "python",
   "nbconvert_exporter": "python",
   "pygments_lexer": "ipython3",
   "version": "3.9.5"
  }
 },
 "nbformat": 4,
 "nbformat_minor": 5
}
