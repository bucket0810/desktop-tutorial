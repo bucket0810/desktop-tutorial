{
 "cells": [
  {
   "cell_type": "code",
   "execution_count": 1,
   "id": "f8d668f7",
   "metadata": {
    "scrolled": true
   },
   "outputs": [
    {
     "data": {
      "text/plain": [
       "<AccountProvider for IBMQ(hub='ibm-q', group='open', project='main')>"
      ]
     },
     "execution_count": 1,
     "metadata": {},
     "output_type": "execute_result"
    }
   ],
   "source": [
    "#使用自己的IBMQ帳號\n",
    "import qiskit as Q\n",
    "#輸入API\n",
    "Q.IBMQ.enable_account('9eacd7290c36819ccce35fe32140ae3c5ef276f4b950dc2d97564a0c4399147530fcc08247fcbd0507c17a83f6767d48be1d6184aa3a0118103893ae2daba175')"
   ]
  },
  {
   "cell_type": "code",
   "execution_count": 2,
   "id": "6afbb720",
   "metadata": {},
   "outputs": [],
   "source": [
    "from qiskit import *\n",
    "from qiskit import QuantumCircuit, assemble, Aer\n",
    "from qiskit.providers.aer import QasmSimulator\n",
    "from math import pi, sqrt, sin, cos\n",
    "from qiskit.visualization import plot_bloch_multivector, plot_histogram\n",
    "import matplotlib\n",
    "import matplotlib.pyplot as plt\n",
    "import numpy as np\n",
    "import os,sys\n",
    "from pandas import *\n",
    "import pandas as pd"
   ]
  },
  {
   "cell_type": "code",
   "execution_count": 3,
   "id": "7a886862",
   "metadata": {},
   "outputs": [],
   "source": [
    "#使用的simulator\n",
    "#simulator = QasmSimulator()\n",
    "#GHZ-states得知之最大角度帶入\n",
    "params= 1/4*pi\n",
    "#定義GHZ的quantum circuit\n",
    "def vqe_ansatz_1(params):\n",
    "    q = QuantumRegister(2)\n",
    "    c = ClassicalRegister(2)\n",
    "    ansatz = QuantumCircuit(q,c)\n",
    "    #GHZ-like state\n",
    "    ansatz.h(q[0])\n",
    "    ansatz.cx(q[0],q[1])\n",
    "    ansatz.rz(params,q[0])\n",
    "    return ansatz"
   ]
  },
  {
   "cell_type": "code",
   "execution_count": 4,
   "id": "41ef44ad",
   "metadata": {},
   "outputs": [
    {
     "name": "stdout",
     "output_type": "stream",
     "text": [
      "2.478515625\n",
      "[1.2392578125, -0.0146484375]\n"
     ]
    }
   ],
   "source": [
    "sample_shots = 1024\n",
    "def expval(params):\n",
    "    def partial(params):\n",
    "        # YX的quantum circuit\n",
    "        vqe= vqe_ansatz_1(params) #call ansatz\n",
    "        vqe.sdg(0)\n",
    "        vqe.h(0)\n",
    "        vqe.h(1)\n",
    "        vqe.measure([0],[0])\n",
    "        vqe.measure([1],[1])\n",
    "\n",
    "        # Compile and execute\n",
    "        # use real quantum computer\n",
    "        provider = Q.IBMQ.get_provider(hub='ibm-q', group='open', project='main')\n",
    "        qcomp = provider.get_backend('ibmq_manila') #called real quantum computer\n",
    "        # calculation\n",
    "        job_qasm = execute(vqe, qcomp, initial_layout = [3,4], shots=sample_shots)\n",
    "        result_sim = job_qasm.result().get_counts()\n",
    "        # Calculate expectation\n",
    "        P_0=(result_sim.get('00')/sample_shots)+(result_sim.get('11')/sample_shots)\n",
    "        P_1=(result_sim.get('01')/sample_shots)+(result_sim.get('10')/sample_shots)\n",
    "        YX = P_0-P_1\n",
    "\n",
    "        # YX的quantum circuit\n",
    "        vqe= vqe_ansatz_1(params) #call ansatz\n",
    "        vqe.sdg(1)\n",
    "        vqe.h(0)\n",
    "        vqe.h(1)\n",
    "        vqe.measure([0],[0])\n",
    "        vqe.measure([1],[1])\n",
    "\n",
    "        # Compile and execute\n",
    "        # use real quantum computer\n",
    "        provider = Q.IBMQ.get_provider(hub='ibm-q', group='open', project='main')\n",
    "        qcomp = provider.get_backend('ibmq_manila') #called real quantum computer\n",
    "        # calculation\n",
    "        job_qasm = execute(vqe, qcomp, initial_layout = [3,4], shots=sample_shots)\n",
    "        result_sim = job_qasm.result().get_counts()\n",
    "        # Calculate expectation\n",
    "        P_0=(result_sim.get('00')/sample_shots)+(result_sim.get('11')/sample_shots)\n",
    "        P_1=(result_sim.get('01')/sample_shots)+(result_sim.get('10')/sample_shots)\n",
    "        XY = P_0-P_1\n",
    "        \n",
    "        # XX的quantum circuit\n",
    "        vqe= vqe_ansatz_1(params)\n",
    "        vqe.h(0)\n",
    "        vqe.h(1)\n",
    "        vqe.measure([0],[0])\n",
    "        vqe.measure([1],[1])\n",
    "\n",
    "        # Compile and execute\n",
    "        # use real quantum computer\n",
    "        provider = Q.IBMQ.get_provider(hub='ibm-q', group='open', project='main')\n",
    "        qcomp = provider.get_backend('ibmq_manila') #called real quantum computer\n",
    "        # calculation\n",
    "        job_qasm = execute(vqe, qcomp,initial_layout = [3,4], shots=sample_shots)\n",
    "        result_sim = job_qasm.result().get_counts()\n",
    "        # Calculate expectation\n",
    "        P_0=(result_sim.get('00')/sample_shots)+(result_sim.get('11')/sample_shots)\n",
    "        P_1=(result_sim.get('01')/sample_shots)+(result_sim.get('10')/sample_shots)\n",
    "        XX = P_0-P_1\n",
    "    \n",
    "        # YY的quantum circuit\n",
    "        vqe= vqe_ansatz_1(params)\n",
    "        vqe.sdg(0)\n",
    "        vqe.sdg(1)\n",
    "        vqe.h(0)\n",
    "        vqe.h(1)\n",
    "        vqe.measure([0],[0])\n",
    "        vqe.measure([1],[1])\n",
    "    \n",
    "        # Compile and execute\n",
    "        # use real quantum computer\n",
    "        provider = Q.IBMQ.get_provider(hub='ibm-q', group='open', project='main')\n",
    "        qcomp = provider.get_backend('ibmq_manila') #called real quantum computer\n",
    "        # calculation\n",
    "        job_qasm = execute(vqe, qcomp, initial_layout = [3,4], shots=sample_shots)\n",
    "        result_sim = job_qasm.result().get_counts()\n",
    "        # Calculate expectation\n",
    "        P_0=(result_sim.get('00')/sample_shots)+(result_sim.get('11')/sample_shots)\n",
    "        P_1=(result_sim.get('01')/sample_shots)+(result_sim.get('10')/sample_shots)\n",
    "        YY = P_0-P_1\n",
    "        return [YX, XY, XX, YY]\n",
    "    Y = partial(params) #叫出結果\n",
    "    M2 = Y[2] + Y[0]+ Y[1] - Y[3] #針對結果計算\n",
    "    Mb2 = Y[3] + Y[1] + Y[0] - Y[2]\n",
    "    M2LR = 2**(2/2)\n",
    "    #normalized\n",
    "    M2ba = M2/M2LR \n",
    "    Mb2ba = Mb2/M2LR\n",
    "    print (M2)\n",
    "    return [M2ba, Mb2ba]\n",
    "X= expval(params)\n",
    "print (X)"
   ]
  },
  {
   "cell_type": "code",
   "execution_count": 5,
   "id": "e4bb9097",
   "metadata": {},
   "outputs": [
    {
     "name": "stdout",
     "output_type": "stream",
     "text": [
      "time cost: 1.0071797370910645\n"
     ]
    }
   ],
   "source": [
    "#計算以上quantum circuit運行一次所需時間\n",
    "import time\n",
    "t0 = time.time()\n",
    "time.sleep(1)\n",
    "print('time cost: {}'.format(time.time() - t0))"
   ]
  },
  {
   "cell_type": "code",
   "execution_count": 6,
   "id": "3f12c950",
   "metadata": {
    "scrolled": true
   },
   "outputs": [
    {
     "name": "stdout",
     "output_type": "stream",
     "text": [
      "2.52734375\n",
      "[1.263671875, 0.02734375]\n",
      "2.51953125\n",
      "[1.259765625, -0.033203125]\n",
      "2.626953125\n",
      "[1.3134765625, -0.0029296875]\n",
      "2.576171875\n",
      "[1.2880859375, -0.0126953125]\n",
      "2.541015625\n",
      "[1.2705078125, -0.0107421875]\n"
     ]
    }
   ],
   "source": [
    "num = 5 #GHZ quantum circuit運轉10次\n",
    "#將結果列進list中\n",
    "M2_list = []\n",
    "Mb2_list = []\n",
    "for i in range (num):\n",
    "    X= expval(params)\n",
    "    M2_list.append(X[0])\n",
    "    Mb2_list.append(X[1])\n",
    "    print (X)"
   ]
  },
  {
   "cell_type": "code",
   "execution_count": 7,
   "id": "39bf4b7e",
   "metadata": {},
   "outputs": [],
   "source": [
    "#將list中的結果以excel匯出\n",
    "dict = {'M2': M2_list, 'Mb2': Mb2_list}\n",
    "df = pd.DataFrame(dict)\n",
    "df.index = df.index+1\n",
    "df.to_excel(\"output_2qubit.xlsx\")"
   ]
  },
  {
   "cell_type": "code",
   "execution_count": null,
   "id": "e7d8e05e",
   "metadata": {},
   "outputs": [],
   "source": []
  }
 ],
 "metadata": {
  "kernelspec": {
   "display_name": "Python 3 (ipykernel)",
   "language": "python",
   "name": "python3"
  },
  "language_info": {
   "codemirror_mode": {
    "name": "ipython",
    "version": 3
   },
   "file_extension": ".py",
   "mimetype": "text/x-python",
   "name": "python",
   "nbconvert_exporter": "python",
   "pygments_lexer": "ipython3",
   "version": "3.9.5"
  }
 },
 "nbformat": 4,
 "nbformat_minor": 5
}
